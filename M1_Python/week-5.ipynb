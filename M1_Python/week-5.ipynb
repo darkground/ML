{
 "cells": [
  {
   "cell_type": "markdown",
   "metadata": {},
   "source": [
    "# Python Machine Learning - Week 5\n",
    "\n",
    "\n",
    "- Тема 2.3. Функциональное программирование. Функции высшего порядка. Чистые функции. Итератор, итерируемый объект. Определение map, filter,\n",
    "zip, lambda. Примеры.\n",
    "\n",
    "---\n",
    "\n",
    "Примеры написаны на Python 3.11  \n",
    "Примеры проверены системой Python 3.8.10 + GCC 9.4.0"
   ]
  },
  {
   "cell_type": "code",
   "execution_count": null,
   "metadata": {},
   "outputs": [],
   "source": [
    "# Task 2-3-3-1\n",
    "# Напишите функцию do_filter(), на вход которой передается список целых чисел.\n",
    "# Примените функцию filter, чтобы в списке остались только нечетные числа.\n",
    "# Функция должна возвращать отфильтрованный список.\n",
    "\n",
    "def do_filter(L):\n",
    "    return list(filter(lambda x: x % 2, L))\n",
    "\n",
    "# Solution Test\n",
    "\n",
    "print(do_filter([1, 2, 3, 4, 5]))"
   ]
  },
  {
   "cell_type": "code",
   "execution_count": null,
   "metadata": {},
   "outputs": [],
   "source": [
    "# Task 2-3-3-2\n",
    "# Напишите функцию do_map(), на вход которой передается список целых чисел.\n",
    "# Примените функцию map, чтобы увеличить каждое число в списке в 2 раза.\n",
    "# Функция должна возвращать изменный список. \n",
    "\n",
    "def do_map(L):\n",
    "    return list(map(lambda x: x * 2, L))\n",
    "\n",
    "# Solution Test\n",
    "\n",
    "print(do_map([1, 2, 3, 4, 5]))"
   ]
  },
  {
   "cell_type": "code",
   "execution_count": null,
   "metadata": {},
   "outputs": [],
   "source": [
    "# Task 2-3-3-3\n",
    "# Напишите фукнцию create_pairs(), которая принимает на список, состоящий из двух строк.\n",
    "# На основании этих двух строк создайте словарь с помощью функции zip, в котором ключи --\n",
    "# это элементы первой строки, а значения -- это элементы второй строки. Верните словарь из функции. \n",
    "\n",
    "def create_pairs(L):\n",
    "    d = {}\n",
    "    for x, y in zip(L[0], L[1]):\n",
    "        d[x] = y\n",
    "    return d\n",
    "\n",
    "# Solution Test\n",
    "\n",
    "print(create_pairs([\"abcdefgh\", \"ijklmnop\"]))"
   ]
  },
  {
   "cell_type": "code",
   "execution_count": null,
   "metadata": {},
   "outputs": [],
   "source": [
    "# Task 2-3-3-4\n",
    "# Напишите функцию do_lambda(), которая принимает на вход список целых чисел.\n",
    "# С помощью функций map, filter и lambda составьте новый список:\n",
    "# четные элементы исходного списка, возведенные в квадрат. Верните новый список из функции. \n",
    "\n",
    "def do_lambda(L):\n",
    "    filtered = list(filter(lambda x: x % 2 == 0, L))\n",
    "    mapped = list(map(lambda x: x * x, filtered))\n",
    "    return mapped\n",
    "\n",
    "# Solution Test\n",
    "\n",
    "print(do_lambda([1, 2, 3, 4, 5]))"
   ]
  },
  {
   "cell_type": "code",
   "execution_count": null,
   "metadata": {},
   "outputs": [],
   "source": [
    "# Task 2-4-1-1\n",
    "# Напишите класс MyList, который наследуется от встроенного класса list.\n",
    "# Перепределите метод append так, чтобы в список попадали только числа. \n",
    "\n",
    "class MyList(list):\n",
    "    def append(self, item):\n",
    "        if isinstance(item, int) or isinstance(item, float):\n",
    "            super().append(item)\n",
    "\n",
    "# Solution Test\n",
    "\n",
    "L = MyList()\n",
    "L.append(1)\n",
    "L.append(2.)\n",
    "L.append(3)\n",
    "L.append(\"4\")\n",
    "L.append(5)\n",
    "print(L)"
   ]
  },
  {
   "cell_type": "code",
   "execution_count": null,
   "metadata": {},
   "outputs": [],
   "source": [
    "# Task 2-4-1-2\n",
    "# Напишите класс MyStr, который наследуется от встроенного класса str.\n",
    "# Переопределите метод __len__ так, чтобы количество строки вычислялось как количество цифр в ней. \n",
    "\n",
    "class MyStr(str):\n",
    "    def __len__(self):\n",
    "        c = 0\n",
    "        for char in self:\n",
    "            if char.isdigit():\n",
    "                c += 1\n",
    "        return c\n",
    "\n",
    "# Solution Test\n",
    "\n",
    "print(len(MyStr(\"abcd1234efgh\")))"
   ]
  },
  {
   "cell_type": "code",
   "execution_count": null,
   "metadata": {},
   "outputs": [],
   "source": [
    "# Task 2-4-1-3\n",
    "# Напишите класс MyList, который наследуется от встроенного класса list.\n",
    "# Переопределите метод __len__() так, чтобы в качестве длины списка возвращалось количество чисел в нем. \n",
    "\n",
    "class MyList(list):\n",
    "    def __len__(self):\n",
    "        c = 0\n",
    "        for item in self:\n",
    "            if isinstance(item, int) or isinstance(item, float):\n",
    "                c += 1\n",
    "        return c\n",
    "\n",
    "# Solution Test\n",
    "\n",
    "print(len(MyList([1, 2, 3, 4, 5, \"a\", \"b\"])))"
   ]
  }
 ],
 "metadata": {
  "kernelspec": {
   "display_name": "Python 3",
   "language": "python",
   "name": "python3"
  },
  "language_info": {
   "codemirror_mode": {
    "name": "ipython",
    "version": 3
   },
   "file_extension": ".py",
   "mimetype": "text/x-python",
   "name": "python",
   "nbconvert_exporter": "python",
   "pygments_lexer": "ipython3",
   "version": "3.11.3"
  }
 },
 "nbformat": 4,
 "nbformat_minor": 2
}
