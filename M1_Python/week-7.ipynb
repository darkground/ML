{
 "cells": [
  {
   "cell_type": "markdown",
   "metadata": {},
   "source": [
    "# Python Machine Learning - Week 7\n",
    "\n",
    "- Тема 3.1. Модуль numpy\n",
    "- Тема 3.2. Модуль scikit-learn\n",
    "- Тема 3.3. Модуль pandas\n",
    "- Тема 3.4. Модуль matplotlib\n",
    "- Тема 3.5. Введение в модули \"высшего порядка\": Tensorflow, Keras.\n",
    "\n",
    "---\n",
    "\n",
    "Примеры написаны на Python 3.11  \n",
    "Примеры проверены системой Python 3.8.10 + GCC 9.4.0"
   ]
  }
 ],
 "metadata": {
  "kernelspec": {
   "display_name": "Python 3",
   "language": "python",
   "name": "python3"
  },
  "language_info": {
   "name": "python",
   "version": "3.11.3"
  }
 },
 "nbformat": 4,
 "nbformat_minor": 2
}
