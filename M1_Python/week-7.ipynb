{
 "cells": [
  {
   "cell_type": "markdown",
   "metadata": {},
   "source": [
    "# Python Machine Learning - Week 7\n",
    "\n",
    "- Тема 3.1. Модуль numpy\n",
    "- Тема 3.2. Модуль scikit-learn\n",
    "- Тема 3.3. Модуль pandas\n",
    "- Тема 3.4. Модуль matplotlib\n",
    "- Тема 3.5. Введение в модули \"высшего порядка\": Tensorflow, Keras.\n",
    "\n",
    "---\n",
    "\n",
    "Примеры написаны на Python 3.11  \n",
    "Примеры проверены системой Python 3.8.10 + GCC 9.4.0"
   ]
  },
  {
   "cell_type": "code",
   "execution_count": null,
   "metadata": {},
   "outputs": [],
   "source": [
    "# Task 3-1-1-1\n",
    "# Напишите функцию create_matrix(), которая принимает на вход список списков: каждый вложенный список\n",
    "# -- это строки матрицы (элементы вложенных списков -- целые числа).\n",
    "# Функция создает на основе этого списка матрицу типа ndarray и возвращает ее.\n",
    "# Не забудьте импортировать необходимые модули.\n",
    "\n",
    "import numpy as np\n",
    "\n",
    "def create_matrix(LL):\n",
    "    return np.array(LL)\n",
    "\n",
    "print(create_matrix([[1, 2, 3], [4, 5, 6], [7, 8, 9]]))"
   ]
  },
  {
   "cell_type": "code",
   "execution_count": null,
   "metadata": {},
   "outputs": [],
   "source": [
    "# Task 3-1-2-2\n",
    "# Напишите функцию get_info(), которая принимает на вход матрицу ndarray чисел\n",
    "# и возвращает количество строк и столбцов в ней в виде кортежа: (количество строк, количество столбцов)\n",
    "# Не забудьте импортировать необходимые модули.\n",
    "\n",
    "import numpy as np\n",
    "\n",
    "def get_info(nd: np.ndarray):\n",
    "    return nd.shape\n",
    "\n",
    "arr = np.array([[1, 2, 3], [4, 5, 6], [7, 8, 9]])\n",
    "print(get_info(arr))"
   ]
  },
  {
   "cell_type": "code",
   "execution_count": null,
   "metadata": {},
   "outputs": [],
   "source": [
    "# Task 3-1-2-3\n",
    "# Напишите функцию solve_system(), в которую передаются: матрица коэффициентов типа ndarray и \n",
    "# вектор свободных членов типа ndarray. Функция решает СЛАУ, описываемую представленными матрицей и вектором, \n",
    "# и возвращает вектор -- решение СЛАУ типа ndarray.\n",
    "# Не забудьте импортировать необходимые модули.\n",
    "\n",
    "import numpy as np\n",
    "\n",
    "def solve_system(nd, vnd):\n",
    "    return np.linalg.solve(nd, vnd)\n",
    "\n",
    "nd1 = np.array([[2, 5], [1, -10]])\n",
    "nd2 = np.array([1, 3])\n",
    "\n",
    "print(solve_system(nd1, nd2))"
   ]
  }
 ],
 "metadata": {
  "kernelspec": {
   "display_name": "Python 3",
   "language": "python",
   "name": "python3"
  },
  "language_info": {
   "codemirror_mode": {
    "name": "ipython",
    "version": 3
   },
   "file_extension": ".py",
   "mimetype": "text/x-python",
   "name": "python",
   "nbconvert_exporter": "python",
   "pygments_lexer": "ipython3",
   "version": "3.11.3"
  }
 },
 "nbformat": 4,
 "nbformat_minor": 2
}
