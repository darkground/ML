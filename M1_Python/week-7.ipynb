{
 "cells": [
  {
   "cell_type": "markdown",
   "metadata": {},
   "source": [
    "# Python Machine Learning - Week 7\n",
    "\n",
    "- Тема 3.1. Модуль numpy\n",
    "- Тема 3.2. Модуль scikit-learn\n",
    "- Тема 3.3. Модуль pandas\n",
    "- Тема 3.4. Модуль matplotlib\n",
    "- Тема 3.5. Введение в модули \"высшего порядка\": Tensorflow, Keras.\n",
    "\n",
    "---\n",
    "\n",
    "Примеры написаны на Python 3.11  \n",
    "Примеры проверены системой Python 3.8.10 + GCC 9.4.0"
   ]
  }
 ],
 "metadata": {
  "language_info": {
   "name": "python"
  }
 },
 "nbformat": 4,
 "nbformat_minor": 2
}
