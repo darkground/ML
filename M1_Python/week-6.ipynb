{
 "cells": [
  {
   "cell_type": "markdown",
   "metadata": {},
   "source": [
    "# Python Machine Learning - Week 6\n",
    "\n",
    "- Контроль модуля №2\n",
    "\n",
    "---\n",
    "\n",
    "Примеры написаны на Python 3.11  \n",
    "Примеры проверены системой Python 3.8.10 + GCC 9.4.0"
   ]
  },
  {
   "cell_type": "markdown",
   "metadata": {},
   "source": [
    "# Функциональные задачи\n",
    "---\n",
    "Используя функциональное программирование, решите следующие задачи.  \n",
    "При решении обратите внимание, что:\n",
    "- Функция не должна ничего выводить на экран.\n",
    "- Кроме определения функции ничего другого писать не нужно.\n",
    "- Нельзя использовать циклы, только функциональное программирование.\n",
    "- Вы можете реализовывать вспомогательные функции."
   ]
  },
  {
   "cell_type": "code",
   "execution_count": null,
   "metadata": {},
   "outputs": [],
   "source": [
    "# Task 2-5-1-1\n",
    "# Напишите функцию solve(), которая принимает на вход список целых чисел,\n",
    "# а возвращает список чисел исходного списка, возведенных в квадрат.\n",
    "\n",
    "def solve(L):\n",
    "    return list(map(lambda x: x * x, L))\n",
    "\n",
    "# Solution Test\n",
    "\n",
    "print(solve([1, 2, 3, 4, 5]))"
   ]
  },
  {
   "cell_type": "code",
   "execution_count": null,
   "metadata": {},
   "outputs": [],
   "source": [
    "# Task 2-5-1-2\n",
    "# Напишите функцию solve(), которая принимает на вход список целых чисел, а возвращает список,\n",
    "# состоящий только из трехзначных чисел исходного списка.\n",
    "\n",
    "def is_3digit(n):\n",
    "    return abs(n) < 1000 and abs(n) > 99\n",
    "\n",
    "def solve(L):\n",
    "    return list(filter(is_3digit, L))\n",
    "\n",
    "# Solution Test\n",
    "\n",
    "print(solve([-1, 2, -33, 44, -555, 666, -7777, 8888]))"
   ]
  },
  {
   "cell_type": "code",
   "execution_count": null,
   "metadata": {},
   "outputs": [],
   "source": [
    "# Task 2-5-1-3\n",
    "# Напишите функцию solve() ,которая принимает на вход список целых чисел и возвращает список значений квадратных корней из\n",
    "# четных чисел исходного списка.\n",
    "# Для извлечения корня воспользуйтесь функцией sqrt из модуля math (гарантируется, что в списке только положительные числа).\n",
    "# Результат округлите до 2-х знаков после запятой с помощью round(value, 2).\n",
    "\n",
    "from math import sqrt\n",
    "\n",
    "def solve(L):\n",
    "    evens = filter(lambda x: x % 2 == 0, L)\n",
    "    sq = map(sqrt, evens)\n",
    "    return list(map(lambda x: round(x, 2), sq))\n",
    "\n",
    "# Solution Test\n",
    "\n",
    "print(solve([1, 2, 3, 4, 5]))"
   ]
  },
  {
   "cell_type": "code",
   "execution_count": null,
   "metadata": {},
   "outputs": [],
   "source": [
    "# Task 2-5-1-4\n",
    "# Напишите функцию solve(), которая принимает на список строк, а возвращает список только из тех строк, в которых есть, как\n",
    "# минимум, 3 цифры.\n",
    "\n",
    "def has_3digits(s):\n",
    "    digits = list(filter(lambda c: c.isdigit(), s))\n",
    "    return len(digits) >= 3\n",
    "\n",
    "def solve(L):\n",
    "    return list(filter(has_3digits, L))\n",
    "\n",
    "# Solution Test\n",
    "\n",
    "print(solve([\"A1BCDE\", \"A1B2CDE\", \"A1B2C3DE\", \"A1B2C3D4E\", \"A1B2C3D4E5\"]))"
   ]
  },
  {
   "cell_type": "code",
   "execution_count": null,
   "metadata": {},
   "outputs": [],
   "source": [
    "# Task 2-5-1-5\n",
    "# Напишите функцию solve(), которая принимает на вход список строк и возвращает список, в котором содержатся только те элементы\n",
    "# исходного списка, которые начинаются с прописной (заглавной) буквы и не включают цифр.\n",
    "\n",
    "def has_digits(s):\n",
    "    digits = list(filter(lambda c: c.isdigit(), s))\n",
    "    return len(digits) > 0\n",
    "\n",
    "def solve(L):\n",
    "    return list(filter(lambda x: x[0].isupper() and not has_digits(x), L))\n",
    "\n",
    "# Solution Test\n",
    "\n",
    "print(solve([\"ABCDE\", \"a1BCDE\", \"A1B2CDE\", \"a1B2C3DE\", \"A1B2C3D4E\"]))"
   ]
  },
  {
   "cell_type": "markdown",
   "metadata": {},
   "source": [
    "# Объектно-ориентированные задачи\n",
    "---\n",
    "\n",
    "Определите класс данный в задаче. Кроме определения класса ничего другого писать не нужно."
   ]
  },
  {
   "cell_type": "code",
   "execution_count": null,
   "metadata": {},
   "outputs": [],
   "source": [
    "# Task 2-5-1-6\n",
    "# Определите класс Student. Создайте два поля объекта класса: group (целое число, номер группы), surname (строка, фамилия\n",
    "# студента). Данные поля инициализируйте в конструкторе с спомощью переданных в конструктор аргументов. По умолчанию значения\n",
    "# аргументов должны равняться: 2303 (значение для поля group) и \"Петров\" (значение для поля surname).\n",
    "\n",
    "class Student:\n",
    "    def __init__(self, _group = 2303, _surname = \"Петров\") -> None:\n",
    "        self.group = _group\n",
    "        self.surname = _surname\n",
    "\n",
    "# Solution Test\n",
    "\n",
    "s1 = Student()\n",
    "s2 = Student(2304, \"Ivanov\")\n",
    "\n",
    "print(s1.group, s1.surname)\n",
    "print(s2.group, s2.surname)"
   ]
  },
  {
   "cell_type": "code",
   "execution_count": null,
   "metadata": {},
   "outputs": [],
   "source": [
    "# Task 2-5-1-7\n",
    "# Определите класс Circle. Создайте поле объекта класса radius (радиус окружности, вещественное число). Поле должно\n",
    "# инициализироваться в контструктуре с помощью переданного в конструктор аргумента. По умолчанию значение аргумента должно\n",
    "# быть равно 10.0\n",
    "\n",
    "class Circle:\n",
    "    def __init__(self, rad = 10.0) -> None:\n",
    "        self.radius = rad\n",
    "\n",
    "# Solution Test\n",
    "\n",
    "c1 = Circle()\n",
    "c2 = Circle(11.2)\n",
    "\n",
    "print(c1.radius)\n",
    "print(c2.radius)"
   ]
  },
  {
   "cell_type": "code",
   "execution_count": null,
   "metadata": {},
   "outputs": [],
   "source": [
    "# Task 2-5-1-8\n",
    "# Определите класс Circle. Создайте два поля объекта класса: radius (радиус окружности, вещественное число), center (кортеж из\n",
    "# двух целых значений, коррдинаты центра откужности).\n",
    "# Поля должны инициализироваться в конструкторе с помощью переданных аргументов. По умолчанию значение аргумента,\n",
    "# отвечающего за радиус, должно быть равно рі (значение константы рі из модулей math или cmath ), а значение аргумента,\n",
    "# отвечающего за центр окружности, должно равняться (0, 0).\n",
    "\n",
    "from math import pi\n",
    "\n",
    "class Circle:\n",
    "    def __init__(self, rad = pi, cent = (0, 0)) -> None:\n",
    "        self.radius = rad\n",
    "        self.center = cent\n",
    "\n",
    "# Solution Test\n",
    "\n",
    "c1 = Circle()\n",
    "c2 = Circle(11.2, (4, 3))\n",
    "\n",
    "print(c1.radius, c1.center)\n",
    "print(c2.radius, c2.center)"
   ]
  },
  {
   "cell_type": "code",
   "execution_count": null,
   "metadata": {},
   "outputs": [],
   "source": [
    "# Task 2-5-1-9\n",
    "# Определите класс Student. Создайте два поля объекта класса: group (целое число), surname (строка).\n",
    "# Поля должны инициализироваться в конструкторе с помощью переданных в конструктор аргументов. По умолчанию значения\n",
    "# аргументов должны равняться: 2303 (значение для поля group), и \"Петров\" (значение для поля surname ).\n",
    "# Переопределите метод __str__ данного класса так, чтобы объекты данного класса выводились на экран в формате: \"group: surname\",\n",
    "# например: \"2303: Петров\"\n",
    "\n",
    "class Student:\n",
    "    def __init__(self, _group = 2303, _surname = \"Петров\") -> None:\n",
    "        self.group = _group\n",
    "        self.surname = _surname\n",
    "    \n",
    "    def __str__(self) -> str:\n",
    "        return \"{}: {}\".format(self.group, self.surname)\n",
    "\n",
    "# Solution Test\n",
    "\n",
    "s1 = Student()\n",
    "s2 = Student(2304, \"Ivanov\")\n",
    "\n",
    "print(s1)\n",
    "print(s2)"
   ]
  },
  {
   "cell_type": "code",
   "execution_count": null,
   "metadata": {},
   "outputs": [],
   "source": [
    "# Task 2-5-1-10\n",
    "# Определите класс Circle. Создайте поля объекта класса: radius (радиус окружности, вещественное число), center (кортеж из двух\n",
    "# вещественных значений, коррдинаты центра откужности).\n",
    "# Поля должны инициализироваться в конструкторе с помощью переданных в конструктор аргументов. По умолчанию значение\n",
    "# аргумента, отвечающего за радиус, должно быть равно рі (значение константы рі из модулей math или cmath, округленное до 2-х\n",
    "# знаков после запятой с помощью round(value, 2)), а значение аргумента, отвечающего за центр окружности, должно равняться (0, 0).\n",
    "# Переопределите метод __str__ данного класса так, чтобы объекты данного класса выводились на экран в виде:\n",
    "# \"Circle: radius=значение радиуса; center=(х-координата центра, у-координата центра)\".\n",
    "# Например, объект класса Cirlce с полем raduis == 10.1 и полем center == (0,0) должно выводиться на экран так:\n",
    "# \"Circle: radius=10.1; center=(0, 0)\"\n",
    "\n",
    "from math import pi\n",
    "\n",
    "class Circle:\n",
    "    def __init__(self, rad = round(pi, 2), cent = (0, 0)) -> None:\n",
    "        self.radius = rad\n",
    "        self.center = cent\n",
    "    \n",
    "    def __str__(self) -> str:\n",
    "        return \"Circle: radius={}; center=({}, {})\".format(self.radius, self.center[0], self.center[1])\n",
    "\n",
    "# Solution Test\n",
    "\n",
    "c1 = Circle()\n",
    "c2 = Circle(11.2, (4, 3))\n",
    "\n",
    "print(c1)\n",
    "print(c2)"
   ]
  }
 ],
 "metadata": {
  "kernelspec": {
   "display_name": "Python 3",
   "language": "python",
   "name": "python3"
  },
  "language_info": {
   "codemirror_mode": {
    "name": "ipython",
    "version": 3
   },
   "file_extension": ".py",
   "mimetype": "text/x-python",
   "name": "python",
   "nbconvert_exporter": "python",
   "pygments_lexer": "ipython3",
   "version": "3.11.3"
  }
 },
 "nbformat": 4,
 "nbformat_minor": 2
}
