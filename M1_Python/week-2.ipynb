{
 "cells": [
  {
   "cell_type": "markdown",
   "metadata": {},
   "source": [
    "# Python Machine Learning\n",
    "\n",
    "Python 3.11"
   ]
  },
  {
   "cell_type": "code",
   "execution_count": null,
   "metadata": {},
   "outputs": [],
   "source": [
    "# Task 1-4-1-1\n",
    "# Напишите функцию check_list(...), которая принимает на вход список целых чисел,\n",
    "# возвращает 2 переменных: длину этого списка,\n",
    "# и разницу между максимальным и минимальным значением \n",
    "\n",
    "def check_list(arr):\n",
    "    return (len(arr), abs(max(arr) - min(arr)))"
   ]
  },
  {
   "cell_type": "code",
   "execution_count": null,
   "metadata": {},
   "outputs": [],
   "source": [
    "# Task 1-4-1-2\n",
    "# Напишите функцию my_det(...), которая принимает на вход список из трех целых чисел\n",
    "# -- коэффициенты квадратного уравнения.\n",
    "# Функция вычисляет дискриминат и возвращает его значение. \n",
    "\n",
    "def my_det(arr):\n",
    "    a, b, c = arr\n",
    "    return b ** 2 - 4 * a * c"
   ]
  },
  {
   "cell_type": "code",
   "execution_count": null,
   "metadata": {},
   "outputs": [],
   "source": [
    "# Task 1-4-2-1\n",
    "# Напишите функцию squares(...), которая принимает на вход список чисел с плавающей точкой\n",
    "# -- радиусы окружностей. Воспользовавашись встроенной в math или cmath константой pi,\n",
    "# вычислите площади окружностей по формуле: pi * R²\n",
    "# Каждую площадь округлите до 2-х знаков после запятой с помощью round(value,2).\n",
    "# Функция должна вернуть полученный список.\n",
    "\n",
    "def squares(arr):\n",
    "    import math\n",
    "    out = []\n",
    "    for r in arr:\n",
    "        v = round(math.pi * (r ** 2), 2)\n",
    "        out.append(v)\n",
    "    return out"
   ]
  },
  {
   "cell_type": "code",
   "execution_count": 3,
   "metadata": {},
   "outputs": [],
   "source": [
    "# Task 1-4-2-2\n",
    "# Напишите функцию radians(...), которая принимает на вход список чисел с плавающей точкой\n",
    "# -- значения угла в градусах (от 0 до 360). Воспользовавашись встроенной в math или cmath константой pi,\n",
    "# переведите значения углов в радианы, воспользовавшись формулой: a * pi / 180, где a\n",
    "# -- это соответствующее значения угла в градусах.\n",
    "# Каждое значение списка округлите до 2 знаков после запятой, используя round(value,2).\n",
    "# Функция должна вернуть полученный список.\n",
    "\n",
    "def radians(arr):\n",
    "    import math\n",
    "    out = []\n",
    "    for ang in arr:\n",
    "        v = round(ang * math.pi / 180, 2)\n",
    "        out.append(v)\n",
    "    return out"
   ]
  },
  {
   "cell_type": "code",
   "execution_count": null,
   "metadata": {},
   "outputs": [],
   "source": [
    "# Task 1-4-2-3\n",
    "# Напишите функцию find_solution(...), которая принимает на вход список целых чисел\n",
    "# -- коэффициентов квадратного уравнения a, b, c. Функция вычисляет корни уравнения и возвращает их.\n",
    "# Если дискриминант получается отрицательным, функция должна вернуть None.\n",
    "# Для положительных дискриминантов воспользуйтесь встроенной в модуль math функцией sqrt.\n",
    "# Вещественые корни уравнения следует округлить до 2 знаков после запятой с помощью round(value,2).\n",
    "\n",
    "def find_solution(arr):\n",
    "    import math\n",
    "    a, b, c = arr\n",
    "    d = b ** 2 - 4 * a * c\n",
    "    if d < 0:\n",
    "        return\n",
    "    x1 = (-b - math.sqrt(d)) / (2 * a)\n",
    "    x2 = (-b + math.sqrt(d)) / (2 * a)\n",
    "    return round(x1, 2), round(x2, 2)"
   ]
  }
 ],
 "metadata": {
  "kernelspec": {
   "display_name": "Python 3",
   "language": "python",
   "name": "python3"
  },
  "language_info": {
   "codemirror_mode": {
    "name": "ipython",
    "version": 3
   },
   "file_extension": ".py",
   "mimetype": "text/x-python",
   "name": "python",
   "nbconvert_exporter": "python",
   "pygments_lexer": "ipython3",
   "version": "3.11.3"
  }
 },
 "nbformat": 4,
 "nbformat_minor": 2
}
