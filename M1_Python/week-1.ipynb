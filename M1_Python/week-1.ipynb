{
 "cells": [
  {
   "cell_type": "markdown",
   "metadata": {},
   "source": [
    "# Python Machine Learning\n",
    "\n",
    "Python 3.11"
   ]
  },
  {
   "cell_type": "code",
   "execution_count": null,
   "metadata": {},
   "outputs": [],
   "source": [
    "# Task 1-1-2-1\n",
    "# Прочитайте данные пользователя с клавиатуры (не используйте приветственное сообщение!).\n",
    "# Выведите на экран строку: \"Your data: прочитанные_с_клавиатуры_данные\"\n",
    "\n",
    "inp = input()\n",
    "print(\"Your data:\", inp)"
   ]
  },
  {
   "cell_type": "code",
   "execution_count": null,
   "metadata": {},
   "outputs": [],
   "source": [
    "# Task 1-2-2-1\n",
    "# Прочитайте строку с клавиатуры и выведите на экран ее длину.\n",
    "\n",
    "inp = input()\n",
    "print(len(inp))"
   ]
  },
  {
   "cell_type": "code",
   "execution_count": null,
   "metadata": {},
   "outputs": [],
   "source": [
    "# Task 1-2-2-2\n",
    "# Прочитайте строку с клавиатуры и выведите на экран её же, приведенную к верхнему регистру.\n",
    "\n",
    "inp = input()\n",
    "print(inp.upper())"
   ]
  },
  {
   "cell_type": "code",
   "execution_count": null,
   "metadata": {},
   "outputs": [],
   "source": [
    "# Task 1-2-2-3\n",
    "# На вход программе подается строка - объект типа str.\n",
    "# Напишите программу, которая заменяет каждый символ 'a' в строке на символ 'o',\n",
    "# а каждый символ 'T' на символ 'R' и выводит результат на экран.\n",
    "\n",
    "inp = input().replace(\"a\", \"o\").replace(\"T\", \"R\")\n",
    "print(inp)"
   ]
  },
  {
   "cell_type": "code",
   "execution_count": null,
   "metadata": {},
   "outputs": [],
   "source": [
    "# Task 1-2-3-1\n",
    "# Прочитайте список строк с клавиатуры (элементы отделены точкой с запятой)\n",
    "# и выведите на экран длину списка.\n",
    "\n",
    "inp = input().split(';')\n",
    "print(len(inp))"
   ]
  },
  {
   "cell_type": "code",
   "execution_count": null,
   "metadata": {},
   "outputs": [],
   "source": [
    "# Task 1-2-3-2\n",
    "# Прочитайте список строк, разделенных пробелом,\n",
    "# с клавиатуры и создайте на его основе строку с разделителем *.\n",
    "# Выведите получившуюся строку на экран. \n",
    "\n",
    "inp = input().split()\n",
    "print('*'.join(inp))"
   ]
  },
  {
   "cell_type": "code",
   "execution_count": null,
   "metadata": {},
   "outputs": [],
   "source": [
    "# Task 1-2-3-3\n",
    "# Прочитайте список строк, разделенных пробелом,\n",
    "# и выведите на экран результат дублирования этого списка 3 раза. \n",
    "\n",
    "inp = input().split()\n",
    "print(inp*3)"
   ]
  },
  {
   "cell_type": "code",
   "execution_count": null,
   "metadata": {},
   "outputs": [],
   "source": [
    "# Task 1-2-4-1\n",
    "# Прочитайте список ключей с клавиатуры (строки, разделенные пробелами)\n",
    "# и создайте на его основе словарь, где все значения True.\n",
    "# Выведите словарь на экран. \n",
    "\n",
    "inp = input().split()\n",
    "print(dict.fromkeys(inp, True))"
   ]
  },
  {
   "cell_type": "code",
   "execution_count": null,
   "metadata": {},
   "outputs": [],
   "source": [
    "# Task 1-3-1-1\n",
    "# Прочитайте с клавиатуры список, в котором записаны через пробел 3 целых числа.\n",
    "# Выведите на экран номер максимального из них (нумерация начинается с 0).\n",
    "# Если максимальных несколько, выведите номер первого.\n",
    "\n",
    "inp = input().split()\n",
    "mi = 0\n",
    "for i in range(len(inp)):\n",
    "    if int(inp[i]) > int(inp[mi]):\n",
    "        mi = i\n",
    "print(mi)"
   ]
  },
  {
   "cell_type": "code",
   "execution_count": null,
   "metadata": {},
   "outputs": [],
   "source": [
    "# Task 1-3-1-2\n",
    "# Прочитайте с клавиатуры список строк, разделенных пробелами. Для каждой строки списка:\n",
    "# - если ее длина строго больше 3-х, приведите строку к нижнему регистру,\n",
    "# - если длина нечетная, то первый символ сделайте заглавным.\n",
    "# Выведите на экран получившийся список строк.\n",
    "\n",
    "inp = input().split()\n",
    "for i in range(len(inp)):\n",
    "    if len(inp[i]) > 3:\n",
    "        inp[i] = inp[i].lower()\n",
    "    if len(inp[i]) % 2 != 0:\n",
    "        inp[i] = inp[i].capitalize()\n",
    "print(inp)"
   ]
  },
  {
   "cell_type": "code",
   "execution_count": null,
   "metadata": {},
   "outputs": [],
   "source": [
    "# Task 1-3-2-1\n",
    "# Прочитайте целое число N с клавиатуры.\n",
    "# Сгенерируйте список целых чисел от 0 до N-1 с шагом 1.\n",
    "# Выведите получившийся список на экран.\n",
    "\n",
    "inp = int(input())\n",
    "print(list(range(inp)))"
   ]
  },
  {
   "cell_type": "code",
   "execution_count": null,
   "metadata": {},
   "outputs": [],
   "source": [
    "# Task 1-3-2-2\n",
    "# Прочитайте с клавиатуры строку, в которой через пробел записаны элементы (целые числа).\n",
    "# Примените strip к прочитанной строке для удаления пробельных символов в начале и конце строки.\n",
    "# Далее преобразуйте строку в список целых чисел.\n",
    "# Выведите на экран новый список, составленный из четных чисел исходного списка.\n",
    "# В итоговом списке элементы -- объекты типа int.\n",
    "\n",
    "inp = input().strip().split()\n",
    "inp_int = [int(x) for x in inp]\n",
    "print([x for x in inp_int if x % 2 == 0])"
   ]
  },
  {
   "cell_type": "code",
   "execution_count": null,
   "metadata": {},
   "outputs": [],
   "source": [
    "# Task 1-3-2-3\n",
    "# Прочитайте список с клавиатуры (элементы, целые числа, разделены пробелом).\n",
    "# Составьте список пар: (индекс, значение списка).\n",
    "# Выведите получившийся список на экран.\n",
    "\n",
    "inp = [int(x) for x in input().split()]\n",
    "print(list(enumerate(inp)))"
   ]
  },
  {
   "cell_type": "code",
   "execution_count": null,
   "metadata": {},
   "outputs": [],
   "source": [
    "# Task 1-3-2-4\n",
    "# Прочитайте список с клавиатуры (элементы-строки разделены пробелом),\n",
    "# преобразуйте его в список строк, приведенных к верхнему регистру\n",
    "# Выведите список на экран. \n",
    "\n",
    "inp = [x.upper() for x in input().split()]\n",
    "print(inp)"
   ]
  },
  {
   "cell_type": "code",
   "execution_count": null,
   "metadata": {},
   "outputs": [],
   "source": [
    "# Task 1-3-2-5\n",
    "# На вход программе подается некоторое количество предложений, разделенных символом табуляции ('\\t').\n",
    "# С помощью метода строк strip() уберите пробельные символы в начале и конце каждого предложения.\n",
    "# Далее подсчитайте, какое предложение встречается в тексте наибольшее число раз\n",
    "# и выведите это число повторений на экран. \n",
    "\n",
    "inp = input().strip().split(\"\\t\")\n",
    "\n",
    "counter = {}\n",
    "mx = 0\n",
    "for w in inp:\n",
    "    counter[w] = counter.get(w, 0) + 1\n",
    "    if counter[w] > mx:\n",
    "        mx = counter[w]\n",
    "\n",
    "print(mx)"
   ]
  },
  {
   "cell_type": "code",
   "execution_count": null,
   "metadata": {},
   "outputs": [],
   "source": [
    "# Task 1-2-4-2\n",
    "# Прочитайте список ключей с клавиатуры (строки состоящие из одного символа, разделенные пробелами)\n",
    "# и создайте на его основе словарь, где все значения являются кодами символов в таблице ascii (ord()).\n",
    "# Выведите итоговый словарь на экран. \n",
    "\n",
    "inp = input().split()\n",
    "d = dict.fromkeys(inp)\n",
    "for i in d:\n",
    "    d[i] = ord(i)\n",
    "print(d)"
   ]
  }
 ],
 "metadata": {
  "kernelspec": {
   "display_name": "Python 3",
   "language": "python",
   "name": "python3"
  },
  "language_info": {
   "codemirror_mode": {
    "name": "ipython",
    "version": 3
   },
   "file_extension": ".py",
   "mimetype": "text/x-python",
   "name": "python",
   "nbconvert_exporter": "python",
   "pygments_lexer": "ipython3",
   "version": "3.11.3"
  }
 },
 "nbformat": 4,
 "nbformat_minor": 2
}
