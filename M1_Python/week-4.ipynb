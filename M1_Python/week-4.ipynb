{
 "cells": [
  {
   "cell_type": "markdown",
   "metadata": {},
   "source": [
    "# Python Machine Learning - Week 4\n",
    "\n",
    "\n",
    "- Тема 2.1. Определение парадигмы. Императивная и декларативная парадигмы. Примеры.                                        \n",
    "- Тема 2.2. Объектно-ориентированное программирование в Python. Понятия класса, объекта, метода, поля. Конструктор. Инкапсуляция, наследование. Класс object. Функции issubclass(),  isinstance(), super(). Полиморфизм. Перегрузка операторов.\n",
    "\n",
    "---\n",
    "\n",
    "Примеры написаны на Python 3.11  \n",
    "Примеры проверены системой Python 3.8.10 + GCC 9.4.0"
   ]
  },
  {
   "cell_type": "code",
   "execution_count": null,
   "metadata": {},
   "outputs": [],
   "source": [
    "# Task 2-2-1-1\n",
    "# Напишите класс Point, конструктор которого принимает на вход две координаты: x, y.\n",
    "# Если координаты не заданы, считать, что они равны нулю.\n",
    "# Значения координат должны быть использованы в конструкторе для иницизации соответсвующих полей объекта. \n",
    "\n",
    "class Point:\n",
    "    def __init__(self, x = 0, y = 0):\n",
    "        self.x = x\n",
    "        self.y = y\n",
    "\n",
    "Point()\n",
    "Point(1)\n",
    "Point(1, 2)"
   ]
  },
  {
   "cell_type": "code",
   "execution_count": null,
   "metadata": {},
   "outputs": [],
   "source": [
    "# Task 2-2-2-1\n",
    "# Напишите класс MyStr, который наследуется от встроенного класса str.\n",
    "# Переопределите метод __str__, чтобы объекты данного класса при выводе на экран были приведены к верхнему регистру.\n",
    "\n",
    "class MyStr(str):\n",
    "    def __str__(self):\n",
    "        return self.upper()\n",
    "\n",
    "print(MyStr(\"Hello World!\"))"
   ]
  },
  {
   "cell_type": "code",
   "execution_count": null,
   "metadata": {},
   "outputs": [],
   "source": [
    "# Task 2-2-3-4\n",
    "# Напишите класс MyStr, который наследуется от встроенного класса str.\n",
    "# Переопределите метод join так, чтобы он работал одинаково как для элементов-строк, так и для элементов-чисел.\n",
    "\n",
    "class MyStr(str):\n",
    "    def join(self, x):\n",
    "        y = []\n",
    "        for item in x:\n",
    "            if isinstance(item, str):\n",
    "                y.append(item)\n",
    "            else:\n",
    "                y.append(str(item))\n",
    "        return super().join(y)\n",
    "\n",
    "print(MyStr(\",\").join([\"1\", \"2\", \"3\"]))\n",
    "print(MyStr(\",\").join([1, 2, 3]))"
   ]
  }
 ],
 "metadata": {
  "kernelspec": {
   "display_name": "Python 3",
   "language": "python",
   "name": "python3"
  },
  "language_info": {
   "codemirror_mode": {
    "name": "ipython",
    "version": 3
   },
   "file_extension": ".py",
   "mimetype": "text/x-python",
   "name": "python",
   "nbconvert_exporter": "python",
   "pygments_lexer": "ipython3",
   "version": "3.11.3"
  }
 },
 "nbformat": 4,
 "nbformat_minor": 2
}
