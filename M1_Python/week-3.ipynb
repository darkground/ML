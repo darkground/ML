{
 "cells": [
  {
   "cell_type": "markdown",
   "metadata": {},
   "source": [
    "# Python Machine Learning - Week 3\n",
    "\n",
    "- Контроль модуля\n",
    "\n",
    "---\n",
    "\n",
    "Примеры написаны на Python 3.11  \n",
    "Примеры проверены системой Python 3.8.10 + GCC 9.4.0"
   ]
  },
  {
   "cell_type": "code",
   "execution_count": null,
   "metadata": {},
   "outputs": [],
   "source": [
    "# Task 1-6-1-1\n",
    "# На вход подается строка, состоящая из символов алфавита и цифр.\n",
    "# Посчитайте, сколько в ней символов алфавита (используйте цикл for и метод строк isalpha()).\n",
    "# Выведите это количество на экран.\n",
    "\n",
    "inp = input()\n",
    "c = 0\n",
    "for i in inp:\n",
    "    if i.isalpha():\n",
    "        c += 1\n",
    "print(c)"
   ]
  },
  {
   "cell_type": "code",
   "execution_count": null,
   "metadata": {},
   "outputs": [],
   "source": [
    "# Task 1-6-1-2\n",
    "# На вход подается строка, состоящая из символов алфавита и цифр.\n",
    "# Посчитайте, сколько в ней цифр (используйте цикл for и метод строк isdigit()).\n",
    "# Выведите это количество на экран.\n",
    "\n",
    "inp = input()\n",
    "c = 0\n",
    "for i in inp:\n",
    "    if i.isdigit():\n",
    "        c += 1\n",
    "print(c)"
   ]
  },
  {
   "cell_type": "code",
   "execution_count": null,
   "metadata": {},
   "outputs": [],
   "source": [
    "# Task 1-6-1-3\n",
    "# На вход подается строка, состоящая из символов алфавита, цифр, знаков препинания и других символов.\n",
    "# Создайте список строк из таких символов исходной строки,\n",
    "# которые одновременно не являются символами алфавита и не являются цифрами.\n",
    "# Выведите получившийся список строк на экран\n",
    "\n",
    "inp = input()\n",
    "c = []\n",
    "for chr in inp:\n",
    "    if (not chr.isdigit()) and (not chr.isalpha()):\n",
    "        c.append(chr)\n",
    "print(c)"
   ]
  },
  {
   "cell_type": "code",
   "execution_count": null,
   "metadata": {},
   "outputs": [],
   "source": [
    "# Task 1-6-1-4\n",
    "# На вход подается строка, в которой записаны элементы списка -- целые числа через пробел (положительные и отрицательные).\n",
    "# Создайте новый список и добавьте в него только трехзначные числа из исходного списка.\n",
    "# Выведите новый список на экран. В итоговом списке должны быть объекты типа int.\n",
    "\n",
    "inp = input()\n",
    "l = [int(x) for x in inp.split()]\n",
    "f = [x for x in l if abs(x) > 99 and abs(x) < 1000]\n",
    "print(f)"
   ]
  },
  {
   "cell_type": "code",
   "execution_count": null,
   "metadata": {},
   "outputs": [],
   "source": [
    "# Task 1-6-1-5\n",
    "# На вход подается строка, в которой записаны элементы списка -- целые числа через пробел (положительные и отрицательные), записанные через пробел.\n",
    "# Создайте новый список и добавьте туда только те элементы, кратные трем.\n",
    "# Выведите новый список на экран. В итоговом списке должны быть объекты типа int.\n",
    "\n",
    "inp = input()\n",
    "l = [int(x) for x in inp.split()]\n",
    "f = [x for x in l if x % 3 == 0]\n",
    "print(f)"
   ]
  },
  {
   "cell_type": "code",
   "execution_count": null,
   "metadata": {},
   "outputs": [],
   "source": [
    "# Task 1-6-1-6\n",
    "# На вход подается строка, в которой записны элементы списка -- строки,\n",
    "# записаннные через пробел. Посчитайте, сколько в списке строк четной длины.\n",
    "# Выведите это количество на экран.\n",
    "\n",
    "inp = input().split()\n",
    "s = 0\n",
    "for i in inp:\n",
    "    if len(i) % 2 == 0:\n",
    "        s += 1\n",
    "print(s)"
   ]
  },
  {
   "cell_type": "code",
   "execution_count": null,
   "metadata": {},
   "outputs": [],
   "source": [
    "# Task 1-6-1-7\n",
    "# Напишите функцию create_dict(), которая принимает на вход строку,\n",
    "# где записаны элементы списка через пробел. Функция возвращает словарь,\n",
    "# где ключи -- это сами строки, а значения -- None.\n",
    "\n",
    "def create_dict(s):\n",
    "    inp = s.split()\n",
    "    return dict.fromkeys(inp, None)\n",
    "\n",
    "r = create_dict(\"1 2 3 4\")\n",
    "print(r)"
   ]
  },
  {
   "cell_type": "code",
   "execution_count": null,
   "metadata": {},
   "outputs": [],
   "source": [
    "# Task 1-6-1-8\n",
    "# Напишите функцию create_dict(), которая принимает на вход строку,\n",
    "# где записаны элементы списка через пробел. Функция возвращает словарь,\n",
    "# где ключи -- это сами строки, а значения -- это длины соответствующих строк.\n",
    "# Гарантируется, что строки не повторяются.\n",
    "\n",
    "def create_dict(s):\n",
    "    inp = s.split()\n",
    "    d = {}\n",
    "    for key in inp:\n",
    "        d[key] = len(key)\n",
    "    return d\n",
    "\n",
    "r = create_dict(\"1 22 333 4444 555 66 7\")\n",
    "print(r)"
   ]
  },
  {
   "cell_type": "code",
   "execution_count": null,
   "metadata": {},
   "outputs": [],
   "source": [
    "# Task 1-6-1-9\n",
    "# Напишите функцию create_dict(), которая принимает на вход строку,\n",
    "# и возвращает словарь, где ключи -- это символы исходной строки,\n",
    "# а значения -- коды символов ord().\n",
    "\n",
    "def create_dict(s):\n",
    "    d = {}\n",
    "    for chr in s:\n",
    "        d[chr] = ord(chr)\n",
    "    return d\n",
    "\n",
    "r = create_dict(\"abcdefg1234\")\n",
    "print(r)"
   ]
  },
  {
   "cell_type": "code",
   "execution_count": null,
   "metadata": {},
   "outputs": [],
   "source": [
    "# Task 1-6-1-10\n",
    "# Напишите функцию check_dict(), которая принимает на вход словарь и строку inp_str (два аргумента).\n",
    "# Ключи словаря - это целые числа, а значения - строки.\n",
    "# Функция проверяет, если ключ, равный длине строки, есть в словаре, то возвращает значение по данному ключу.\n",
    "# Если такого ключа нет, то в словарь добавляется новая пара {len(inp_str): inp_str}.\n",
    "# В этом случае функция возвращает обновленный словарь.\n",
    "# Примечание: пусть inp_dict -- это некоторый словарь. Проверить наличие ключа my_key в этом словаре можно так:\n",
    "# if my_key in inp_dict.\n",
    "\n",
    "def check_dict(inp_dict, inp_str):\n",
    "    key = len(inp_str)\n",
    "    if key in inp_dict:\n",
    "        return inp_dict[key]\n",
    "    else:\n",
    "        inp_dict[key] = inp_str\n",
    "        return inp_dict\n",
    "\n",
    "r1 = check_dict({\n",
    "    2: \"ab\",\n",
    "    3: \"cde\",\n",
    "    4: \"fghi\"\n",
    "}, \"test\")\n",
    "r2 = check_dict({\n",
    "    2: \"ab\",\n",
    "    3: \"cde\",\n",
    "    4: \"fghi\"\n",
    "}, \"x\")\n",
    "print(r1)\n",
    "print(r2)"
   ]
  }
 ],
 "metadata": {
  "kernelspec": {
   "display_name": "Python 3",
   "language": "python",
   "name": "python3"
  },
  "language_info": {
   "codemirror_mode": {
    "name": "ipython",
    "version": 3
   },
   "file_extension": ".py",
   "mimetype": "text/x-python",
   "name": "python",
   "nbconvert_exporter": "python",
   "pygments_lexer": "ipython3",
   "version": "3.11.3"
  }
 },
 "nbformat": 4,
 "nbformat_minor": 2
}
