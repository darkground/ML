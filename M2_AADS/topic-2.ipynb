{
 "cells": [
  {
   "cell_type": "markdown",
   "metadata": {},
   "source": [
    "# Python Algorithms And Data Structures - Topic 2\n",
    "\n",
    "- Практическое задание: связные списки\n",
    "- Тест 3. Линейные структуры данных\n",
    "\n",
    "---\n",
    "\n",
    "Примеры написаны на Python 3.11  "
   ]
  },
  {
   "cell_type": "markdown",
   "metadata": {},
   "source": [
    "# Тестовая часть\n",
    "---\n",
    "\n",
    "..."
   ]
  },
  {
   "cell_type": "markdown",
   "metadata": {},
   "source": [
    "# Практическая часть\n",
    "---\n",
    "\n",
    "## Практическое задание: связные списки"
   ]
  },
  {
   "cell_type": "markdown",
   "metadata": {},
   "source": [
    "Дан связный список, который реализован как кортеж (число, ссылка на следующую пару) вида:\n",
    "```py\n",
    "x = (1, (2, (3, (4, (5, None)))))\n",
    "```\n",
    "\n",
    "Необходимо написать функцию `iter(x)`, который печатает элементы списка:\n",
    "\n",
    "Вызов:\n",
    "```py\n",
    "iter((1, (2, (3, (4, (5, None))))))\n",
    "```\n",
    "\n",
    "Результат:\n",
    "```\n",
    "1\n",
    "2\n",
    "3\n",
    "4\n",
    "```"
   ]
  },
  {
   "cell_type": "code",
   "execution_count": null,
   "metadata": {},
   "outputs": [],
   "source": [
    "def iter(x):\n",
    "    if x is None:\n",
    "        return\n",
    "    print(x[0]), iter(x[1])\n",
    "    \n",
    "# Solution Test\n",
    "\n",
    "iter((2, (3, (4, (5, None)))))"
   ]
  },
  {
   "cell_type": "markdown",
   "metadata": {},
   "source": [
    "Дан связный список, который реализован как кортеж (число, ссылка на следующую пару) вида:\n",
    "```py\n",
    "x = (1, (2, (3, (4, (5, None)))))\n",
    "```\n",
    "\n",
    "Реализовать функцию добавления нового элемента в начало очереди, которая принимает на вход число и первый элемент списка и возвращает новый список, в котором первый элемент содержит переданное число и ссылку на следующий узел:\n",
    "\n",
    "Пример вызова:\n",
    "```py\n",
    "prepend(1, (3, None))\n",
    "```\n",
    "\n",
    "Результат:\n",
    "```py\n",
    "(1, (3, None))\n",
    "```"
   ]
  },
  {
   "cell_type": "code",
   "execution_count": null,
   "metadata": {},
   "outputs": [],
   "source": [
    "def prepend(e, x):\n",
    "    return e, x\n",
    "    \n",
    "# Solution Test\n",
    "\n",
    "prepend(1, (3, None))"
   ]
  },
  {
   "cell_type": "markdown",
   "metadata": {},
   "source": [
    "Дан связный список, который реализован как кортеж (число, ссылка на следующую пару) вида, в котором значения уже отсортированы:\n",
    "```py\n",
    "x = (1, (3, (4, (7, (9, None)))))\n",
    "```\n",
    "Необходимо реализовать функцию, которая возвращает перевёрнутый список:\n",
    "\n",
    "Пример вызова:\n",
    "```py\n",
    "reverse((1, (3, (6, (8, None)))))\n",
    "```\n",
    "Результат:\n",
    "```py\n",
    "(8, (6, (3, (1, None))))\n",
    "```"
   ]
  },
  {
   "cell_type": "code",
   "execution_count": null,
   "metadata": {},
   "outputs": [],
   "source": [
    "def reverse(x, element=None):\n",
    "    if x is None:\n",
    "        return element\n",
    "    else:\n",
    "        return reverse(x[1], (x[0], element))\n",
    "\n",
    "# Solution Test\n",
    "\n",
    "reverse((1, (3, (6, (8, None)))))"
   ]
  }
 ],
 "metadata": {
  "kernelspec": {
   "display_name": "Python 3",
   "language": "python",
   "name": "python3"
  },
  "language_info": {
   "codemirror_mode": {
    "name": "ipython",
    "version": 3
   },
   "file_extension": ".py",
   "mimetype": "text/x-python",
   "name": "python",
   "nbconvert_exporter": "python",
   "pygments_lexer": "ipython3",
   "version": "3.11.3"
  }
 },
 "nbformat": 4,
 "nbformat_minor": 2
}
